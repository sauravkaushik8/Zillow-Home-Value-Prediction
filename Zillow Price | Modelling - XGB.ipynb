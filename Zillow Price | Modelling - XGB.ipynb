{
 "cells": [
  {
   "cell_type": "code",
   "execution_count": 31,
   "metadata": {
    "collapsed": true,
    "scrolled": true
   },
   "outputs": [],
   "source": [
    "import pandas as pd\n",
    "import numpy as np\n",
    "from sklearn.metrics import mean_absolute_error\n",
    "from sklearn import model_selection, preprocessing, ensemble\n",
    "import xgboost as xgb"
   ]
  },
  {
   "cell_type": "code",
   "execution_count": 32,
   "metadata": {
    "collapsed": true
   },
   "outputs": [],
   "source": [
    "train = pd.read_csv(\"train.csv\")\n"
   ]
  },
  {
   "cell_type": "code",
   "execution_count": 33,
   "metadata": {
    "collapsed": true
   },
   "outputs": [],
   "source": [
    "\n",
    "train = train[train.logerror > -0.4 ]\n",
    "train = train[train.logerror < 0.419 ]\n",
    "train = train.reset_index(drop=True)"
   ]
  },
  {
   "cell_type": "code",
   "execution_count": 34,
   "metadata": {},
   "outputs": [
    {
     "data": {
      "text/plain": [
       "(88528, 164)"
      ]
     },
     "execution_count": 34,
     "metadata": {},
     "output_type": "execute_result"
    }
   ],
   "source": [
    "train.shape"
   ]
  },
  {
   "cell_type": "code",
   "execution_count": 35,
   "metadata": {
    "collapsed": true
   },
   "outputs": [],
   "source": [
    "train_y = train.logerror\n"
   ]
  },
  {
   "cell_type": "code",
   "execution_count": 36,
   "metadata": {
    "collapsed": true
   },
   "outputs": [],
   "source": [
    "train.drop(['propertyzoningdesc', 'logerror', 'nb_count_w'], axis = 1, inplace = True)\n",
    "#transactiondate"
   ]
  },
  {
   "cell_type": "code",
   "execution_count": 37,
   "metadata": {
    "scrolled": true
   },
   "outputs": [
    {
     "data": {
      "text/plain": [
       "parcelid                            int64\n",
       "basementsqft                      float64\n",
       "bathroomcnt                       float64\n",
       "bedroomcnt                        float64\n",
       "buildingqualitytypeid             float64\n",
       "calculatedbathnbr                 float64\n",
       "finishedfloor1squarefeet          float64\n",
       "calculatedfinishedsquarefeet      float64\n",
       "finishedsquarefeet12              float64\n",
       "finishedsquarefeet13              float64\n",
       "finishedsquarefeet15              float64\n",
       "finishedsquarefeet50              float64\n",
       "finishedsquarefeet6               float64\n",
       "fips                              float64\n",
       "fireplacecnt                      float64\n",
       "fullbathcnt                       float64\n",
       "garagecarcnt                      float64\n",
       "garagetotalsqft                   float64\n",
       "latitude                          float64\n",
       "longitude                         float64\n",
       "lotsizesquarefeet                 float64\n",
       "poolcnt                           float64\n",
       "poolsizesum                       float64\n",
       "pooltypeid10                      float64\n",
       "pooltypeid2                       float64\n",
       "pooltypeid7                       float64\n",
       "propertylandusetypeid             float64\n",
       "rawcensustractandblock            float64\n",
       "regionidcity                      float64\n",
       "regionidcounty                    float64\n",
       "                                   ...   \n",
       "propertycountylandusecode_1110      int64\n",
       "propertycountylandusecode_1111      int64\n",
       "propertycountylandusecode_1112      int64\n",
       "propertycountylandusecode_1116      int64\n",
       "propertycountylandusecode_1117      int64\n",
       "propertycountylandusecode_1128      int64\n",
       "propertycountylandusecode_1129      int64\n",
       "propertycountylandusecode_1200      int64\n",
       "propertycountylandusecode_1210      int64\n",
       "propertycountylandusecode_122       int64\n",
       "propertycountylandusecode_1222      int64\n",
       "propertycountylandusecode_1310      int64\n",
       "propertycountylandusecode_1321      int64\n",
       "propertycountylandusecode_1333      int64\n",
       "propertycountylandusecode_135       int64\n",
       "propertycountylandusecode_1410      int64\n",
       "propertycountylandusecode_1420      int64\n",
       "propertycountylandusecode_1421      int64\n",
       "propertycountylandusecode_1432      int64\n",
       "propertycountylandusecode_1720      int64\n",
       "propertycountylandusecode_1722      int64\n",
       "propertycountylandusecode_200       int64\n",
       "propertycountylandusecode_34        int64\n",
       "propertycountylandusecode_38        int64\n",
       "propertycountylandusecode_6050      int64\n",
       "propertycountylandusecode_73        int64\n",
       "propertycountylandusecode_8800      int64\n",
       "propertycountylandusecode_96        int64\n",
       "fireplaceflag_True                  int64\n",
       "taxdelinquencyflag_Y                int64\n",
       "Length: 161, dtype: object"
      ]
     },
     "execution_count": 37,
     "metadata": {},
     "output_type": "execute_result"
    }
   ],
   "source": [
    "train.dtypes"
   ]
  },
  {
   "cell_type": "code",
   "execution_count": 38,
   "metadata": {
    "scrolled": true
   },
   "outputs": [
    {
     "data": {
      "text/html": [
       "<div>\n",
       "<style>\n",
       "    .dataframe thead tr:only-child th {\n",
       "        text-align: right;\n",
       "    }\n",
       "\n",
       "    .dataframe thead th {\n",
       "        text-align: left;\n",
       "    }\n",
       "\n",
       "    .dataframe tbody tr th {\n",
       "        vertical-align: top;\n",
       "    }\n",
       "</style>\n",
       "<table border=\"1\" class=\"dataframe\">\n",
       "  <thead>\n",
       "    <tr style=\"text-align: right;\">\n",
       "      <th></th>\n",
       "      <th>parcelid</th>\n",
       "      <th>basementsqft</th>\n",
       "      <th>bathroomcnt</th>\n",
       "      <th>bedroomcnt</th>\n",
       "      <th>buildingqualitytypeid</th>\n",
       "      <th>calculatedbathnbr</th>\n",
       "      <th>finishedfloor1squarefeet</th>\n",
       "      <th>calculatedfinishedsquarefeet</th>\n",
       "      <th>finishedsquarefeet12</th>\n",
       "      <th>finishedsquarefeet13</th>\n",
       "      <th>...</th>\n",
       "      <th>propertycountylandusecode_1722</th>\n",
       "      <th>propertycountylandusecode_200</th>\n",
       "      <th>propertycountylandusecode_34</th>\n",
       "      <th>propertycountylandusecode_38</th>\n",
       "      <th>propertycountylandusecode_6050</th>\n",
       "      <th>propertycountylandusecode_73</th>\n",
       "      <th>propertycountylandusecode_8800</th>\n",
       "      <th>propertycountylandusecode_96</th>\n",
       "      <th>fireplaceflag_True</th>\n",
       "      <th>taxdelinquencyflag_Y</th>\n",
       "    </tr>\n",
       "  </thead>\n",
       "  <tbody>\n",
       "    <tr>\n",
       "      <th>0</th>\n",
       "      <td>11016594</td>\n",
       "      <td>NaN</td>\n",
       "      <td>2.0</td>\n",
       "      <td>3.0</td>\n",
       "      <td>4.0</td>\n",
       "      <td>2.0</td>\n",
       "      <td>NaN</td>\n",
       "      <td>1684.0</td>\n",
       "      <td>1684.0</td>\n",
       "      <td>NaN</td>\n",
       "      <td>...</td>\n",
       "      <td>0</td>\n",
       "      <td>0</td>\n",
       "      <td>0</td>\n",
       "      <td>0</td>\n",
       "      <td>0</td>\n",
       "      <td>0</td>\n",
       "      <td>0</td>\n",
       "      <td>0</td>\n",
       "      <td>0</td>\n",
       "      <td>0</td>\n",
       "    </tr>\n",
       "    <tr>\n",
       "      <th>1</th>\n",
       "      <td>14366692</td>\n",
       "      <td>NaN</td>\n",
       "      <td>3.5</td>\n",
       "      <td>4.0</td>\n",
       "      <td>NaN</td>\n",
       "      <td>3.5</td>\n",
       "      <td>NaN</td>\n",
       "      <td>2263.0</td>\n",
       "      <td>2263.0</td>\n",
       "      <td>NaN</td>\n",
       "      <td>...</td>\n",
       "      <td>0</td>\n",
       "      <td>0</td>\n",
       "      <td>0</td>\n",
       "      <td>0</td>\n",
       "      <td>0</td>\n",
       "      <td>0</td>\n",
       "      <td>0</td>\n",
       "      <td>0</td>\n",
       "      <td>0</td>\n",
       "      <td>0</td>\n",
       "    </tr>\n",
       "    <tr>\n",
       "      <th>2</th>\n",
       "      <td>12098116</td>\n",
       "      <td>NaN</td>\n",
       "      <td>3.0</td>\n",
       "      <td>2.0</td>\n",
       "      <td>4.0</td>\n",
       "      <td>3.0</td>\n",
       "      <td>NaN</td>\n",
       "      <td>2217.0</td>\n",
       "      <td>2217.0</td>\n",
       "      <td>NaN</td>\n",
       "      <td>...</td>\n",
       "      <td>0</td>\n",
       "      <td>0</td>\n",
       "      <td>0</td>\n",
       "      <td>0</td>\n",
       "      <td>0</td>\n",
       "      <td>0</td>\n",
       "      <td>0</td>\n",
       "      <td>0</td>\n",
       "      <td>0</td>\n",
       "      <td>0</td>\n",
       "    </tr>\n",
       "    <tr>\n",
       "      <th>3</th>\n",
       "      <td>12643413</td>\n",
       "      <td>NaN</td>\n",
       "      <td>2.0</td>\n",
       "      <td>2.0</td>\n",
       "      <td>4.0</td>\n",
       "      <td>2.0</td>\n",
       "      <td>NaN</td>\n",
       "      <td>839.0</td>\n",
       "      <td>839.0</td>\n",
       "      <td>NaN</td>\n",
       "      <td>...</td>\n",
       "      <td>0</td>\n",
       "      <td>0</td>\n",
       "      <td>0</td>\n",
       "      <td>0</td>\n",
       "      <td>0</td>\n",
       "      <td>0</td>\n",
       "      <td>0</td>\n",
       "      <td>0</td>\n",
       "      <td>0</td>\n",
       "      <td>0</td>\n",
       "    </tr>\n",
       "    <tr>\n",
       "      <th>4</th>\n",
       "      <td>14432541</td>\n",
       "      <td>NaN</td>\n",
       "      <td>2.5</td>\n",
       "      <td>4.0</td>\n",
       "      <td>NaN</td>\n",
       "      <td>2.5</td>\n",
       "      <td>NaN</td>\n",
       "      <td>2283.0</td>\n",
       "      <td>2283.0</td>\n",
       "      <td>NaN</td>\n",
       "      <td>...</td>\n",
       "      <td>0</td>\n",
       "      <td>0</td>\n",
       "      <td>0</td>\n",
       "      <td>0</td>\n",
       "      <td>0</td>\n",
       "      <td>0</td>\n",
       "      <td>0</td>\n",
       "      <td>0</td>\n",
       "      <td>0</td>\n",
       "      <td>0</td>\n",
       "    </tr>\n",
       "  </tbody>\n",
       "</table>\n",
       "<p>5 rows × 161 columns</p>\n",
       "</div>"
      ],
      "text/plain": [
       "   parcelid  basementsqft  bathroomcnt  bedroomcnt  buildingqualitytypeid  \\\n",
       "0  11016594           NaN          2.0         3.0                    4.0   \n",
       "1  14366692           NaN          3.5         4.0                    NaN   \n",
       "2  12098116           NaN          3.0         2.0                    4.0   \n",
       "3  12643413           NaN          2.0         2.0                    4.0   \n",
       "4  14432541           NaN          2.5         4.0                    NaN   \n",
       "\n",
       "   calculatedbathnbr  finishedfloor1squarefeet  calculatedfinishedsquarefeet  \\\n",
       "0                2.0                       NaN                        1684.0   \n",
       "1                3.5                       NaN                        2263.0   \n",
       "2                3.0                       NaN                        2217.0   \n",
       "3                2.0                       NaN                         839.0   \n",
       "4                2.5                       NaN                        2283.0   \n",
       "\n",
       "   finishedsquarefeet12  finishedsquarefeet13          ...           \\\n",
       "0                1684.0                   NaN          ...            \n",
       "1                2263.0                   NaN          ...            \n",
       "2                2217.0                   NaN          ...            \n",
       "3                 839.0                   NaN          ...            \n",
       "4                2283.0                   NaN          ...            \n",
       "\n",
       "   propertycountylandusecode_1722  propertycountylandusecode_200  \\\n",
       "0                               0                              0   \n",
       "1                               0                              0   \n",
       "2                               0                              0   \n",
       "3                               0                              0   \n",
       "4                               0                              0   \n",
       "\n",
       "   propertycountylandusecode_34  propertycountylandusecode_38  \\\n",
       "0                             0                             0   \n",
       "1                             0                             0   \n",
       "2                             0                             0   \n",
       "3                             0                             0   \n",
       "4                             0                             0   \n",
       "\n",
       "   propertycountylandusecode_6050  propertycountylandusecode_73  \\\n",
       "0                               0                             0   \n",
       "1                               0                             0   \n",
       "2                               0                             0   \n",
       "3                               0                             0   \n",
       "4                               0                             0   \n",
       "\n",
       "   propertycountylandusecode_8800  propertycountylandusecode_96  \\\n",
       "0                               0                             0   \n",
       "1                               0                             0   \n",
       "2                               0                             0   \n",
       "3                               0                             0   \n",
       "4                               0                             0   \n",
       "\n",
       "   fireplaceflag_True  taxdelinquencyflag_Y  \n",
       "0                   0                     0  \n",
       "1                   0                     0  \n",
       "2                   0                     0  \n",
       "3                   0                     0  \n",
       "4                   0                     0  \n",
       "\n",
       "[5 rows x 161 columns]"
      ]
     },
     "execution_count": 38,
     "metadata": {},
     "output_type": "execute_result"
    }
   ],
   "source": [
    "train.head()"
   ]
  },
  {
   "cell_type": "code",
   "execution_count": 39,
   "metadata": {},
   "outputs": [
    {
     "data": {
      "text/plain": [
       "count    88528.000000\n",
       "mean         0.007628\n",
       "std          0.083459\n",
       "min         -0.399000\n",
       "25%         -0.025300\n",
       "50%          0.005000\n",
       "75%          0.037300\n",
       "max          0.418700\n",
       "Name: logerror, dtype: float64"
      ]
     },
     "execution_count": 39,
     "metadata": {},
     "output_type": "execute_result"
    }
   ],
   "source": [
    "train_y.describe()"
   ]
  },
  {
   "cell_type": "code",
   "execution_count": 40,
   "metadata": {},
   "outputs": [
    {
     "name": "stdout",
     "output_type": "stream",
     "text": [
      "(88528, 161)\n",
      "(88528,)\n"
     ]
    }
   ],
   "source": [
    "print(train.shape)\n",
    "print(train_y.shape)\n"
   ]
  },
  {
   "cell_type": "code",
   "execution_count": 41,
   "metadata": {},
   "outputs": [
    {
     "data": {
      "text/plain": [
       "590"
      ]
     },
     "execution_count": 41,
     "metadata": {},
     "output_type": "execute_result"
    }
   ],
   "source": [
    "#dtrain = xgb.DMatrix(train, train_y, feature_names=train.columns.values)\n",
    "import gc\n",
    "gc.collect()\n"
   ]
  },
  {
   "cell_type": "code",
   "execution_count": 42,
   "metadata": {
    "collapsed": true
   },
   "outputs": [],
   "source": [
    "#y_mean = np.mean(train_y)\n",
    "\n",
    "\n",
    "def runXGB(train_X, train_y, test_X, test_y=None, feature_names=None, seed_val=321, num_rounds=3000):\n",
    "    param = {}\n",
    "    param['objective'] = 'reg:linear'\n",
    "    param['eta'] = 0.1\n",
    "    param['max_depth'] = 2\n",
    "    param['silent'] = 1\n",
    "    param['eval_metric'] = \"rmse\"\n",
    "    param['min_child_weight'] = 1\n",
    "    param['nthread'] = 16 \n",
    "#    param['base_score'] = y_mean \n",
    "    param['subsample'] = 0.7\n",
    "    param['colsample_bytree'] = 0.7\n",
    "    param['seed'] = seed_val\n",
    "    param['num_rounds'] = num_rounds\n",
    "\n",
    "    plst = list(param.items())\n",
    "    xgtrain = xgb.DMatrix(train_X, label=train_y)\n",
    "\n",
    "    if test_y is not None:\n",
    "        xgtest = xgb.DMatrix(test_X, label=test_y)\n",
    "        watchlist = [ (xgtrain,'train'), (xgtest, 'test') ]\n",
    "        model = xgb.train(plst, xgtrain, num_rounds, watchlist, early_stopping_rounds=20, verbose_eval = 10)\n",
    "    else:\n",
    "        xgtest = xgb.DMatrix(test_X)\n",
    "        model = xgb.train(plst, xgtrain, num_rounds)\n",
    "\n",
    "    pred_test_y = model.predict(xgtest)\n",
    "    return pred_test_y, model\n",
    "\n"
   ]
  },
  {
   "cell_type": "code",
   "execution_count": 43,
   "metadata": {
    "scrolled": true
   },
   "outputs": [
    {
     "name": "stdout",
     "output_type": "stream",
     "text": [
      "[0]\ttrain-rmse:0.450888\ttest-rmse:0.451161\n",
      "Multiple eval metrics have been passed: 'test-rmse' will be used for early stopping.\n",
      "\n",
      "Will train until test-rmse hasn't improved in 20 rounds.\n",
      "[10]\ttrain-rmse:0.175487\ttest-rmse:0.175736\n",
      "[20]\ttrain-rmse:0.098958\ttest-rmse:0.099121\n",
      "[30]\ttrain-rmse:0.084934\ttest-rmse:0.085084\n",
      "[40]\ttrain-rmse:0.082976\ttest-rmse:0.083105\n",
      "[50]\ttrain-rmse:0.082676\ttest-rmse:0.082809\n",
      "[60]\ttrain-rmse:0.082578\ttest-rmse:0.082755\n",
      "[70]\ttrain-rmse:0.082508\ttest-rmse:0.082707\n",
      "[80]\ttrain-rmse:0.082453\ttest-rmse:0.082686\n",
      "[90]\ttrain-rmse:0.082389\ttest-rmse:0.082675\n",
      "[100]\ttrain-rmse:0.082341\ttest-rmse:0.082675\n",
      "[110]\ttrain-rmse:0.082288\ttest-rmse:0.082642\n",
      "[120]\ttrain-rmse:0.082235\ttest-rmse:0.082636\n",
      "[130]\ttrain-rmse:0.082186\ttest-rmse:0.08261\n",
      "[140]\ttrain-rmse:0.082143\ttest-rmse:0.082597\n",
      "[150]\ttrain-rmse:0.082106\ttest-rmse:0.08259\n",
      "[160]\ttrain-rmse:0.082065\ttest-rmse:0.082589\n",
      "Stopping. Best iteration:\n",
      "[145]\ttrain-rmse:0.082121\ttest-rmse:0.082586\n",
      "\n",
      "[0.052751649369538058]\n"
     ]
    }
   ],
   "source": [
    "cv_scores = []\n",
    "kf = model_selection.KFold(n_splits=10, shuffle=True, random_state=2016)\n",
    "for dev_index, val_index in kf.split(range(train.shape[0])):\n",
    "        dev_X, val_X = train.loc[dev_index,:], train.loc[val_index,:]\n",
    "        dev_Y, val_Y = train_y[dev_index], train_y[val_index]\n",
    "        preds, model = runXGB(dev_X, dev_Y, val_X, val_Y)\n",
    "        cv_scores.append(mean_absolute_error(val_Y, preds))\n",
    "        print(cv_scores)\n",
    "        break\n",
    "\n"
   ]
  },
  {
   "cell_type": "code",
   "execution_count": 13,
   "metadata": {
    "collapsed": true
   },
   "outputs": [],
   "source": [
    "#Stopping. Best iteration:\n",
    "[154]\ttrain-rmse:0.082119\ttest-rmse:0.082577\n",
    "\n",
    "[0.052791524642169206]\n",
    "\n",
    "\n",
    "\n",
    "Stopping. Best iteration:\n",
    "[145]\ttrain-rmse:0.082121\ttest-rmse:0.082586\n",
    "\n",
    "[0.052751649369538058]"
   ]
  },
  {
   "cell_type": "code",
   "execution_count": 45,
   "metadata": {
    "collapsed": true
   },
   "outputs": [],
   "source": [
    "\n",
    "test = pd.read_pickle('test.pkl')\n"
   ]
  },
  {
   "cell_type": "code",
   "execution_count": 46,
   "metadata": {
    "scrolled": true
   },
   "outputs": [
    {
     "data": {
      "text/plain": [
       "129"
      ]
     },
     "execution_count": 46,
     "metadata": {},
     "output_type": "execute_result"
    }
   ],
   "source": [
    "\n",
    "test.drop(['propertyzoningdesc', 'nb_count_w'], axis =1, inplace = True)\n",
    "\n",
    "#del prop\n",
    "\n",
    "import gc\n",
    "\n",
    "gc.collect()"
   ]
  },
  {
   "cell_type": "code",
   "execution_count": 47,
   "metadata": {
    "collapsed": true
   },
   "outputs": [],
   "source": [
    "preds, model = runXGB(train, train_y, test, num_rounds=145)\n",
    "\n",
    "#del [train, test, model]\n"
   ]
  },
  {
   "cell_type": "code",
   "execution_count": 48,
   "metadata": {},
   "outputs": [
    {
     "data": {
      "text/html": [
       "<div>\n",
       "<style>\n",
       "    .dataframe thead tr:only-child th {\n",
       "        text-align: right;\n",
       "    }\n",
       "\n",
       "    .dataframe thead th {\n",
       "        text-align: left;\n",
       "    }\n",
       "\n",
       "    .dataframe tbody tr th {\n",
       "        vertical-align: top;\n",
       "    }\n",
       "</style>\n",
       "<table border=\"1\" class=\"dataframe\">\n",
       "  <thead>\n",
       "    <tr style=\"text-align: right;\">\n",
       "      <th></th>\n",
       "      <th>Predictor</th>\n",
       "      <th>Importance</th>\n",
       "    </tr>\n",
       "  </thead>\n",
       "  <tbody>\n",
       "    <tr>\n",
       "      <th>1</th>\n",
       "      <td>taxamount</td>\n",
       "      <td>39</td>\n",
       "    </tr>\n",
       "    <tr>\n",
       "      <th>0</th>\n",
       "      <td>finishedsquarefeet12</td>\n",
       "      <td>32</td>\n",
       "    </tr>\n",
       "    <tr>\n",
       "      <th>4</th>\n",
       "      <td>structuretaxvaluedollarcnt</td>\n",
       "      <td>29</td>\n",
       "    </tr>\n",
       "    <tr>\n",
       "      <th>3</th>\n",
       "      <td>calculatedfinishedsquarefeet</td>\n",
       "      <td>25</td>\n",
       "    </tr>\n",
       "    <tr>\n",
       "      <th>11</th>\n",
       "      <td>landtaxvaluedollarcnt</td>\n",
       "      <td>22</td>\n",
       "    </tr>\n",
       "    <tr>\n",
       "      <th>12</th>\n",
       "      <td>yearbuilt</td>\n",
       "      <td>21</td>\n",
       "    </tr>\n",
       "    <tr>\n",
       "      <th>5</th>\n",
       "      <td>taxvaluedollarcnt</td>\n",
       "      <td>20</td>\n",
       "    </tr>\n",
       "    <tr>\n",
       "      <th>19</th>\n",
       "      <td>longitude</td>\n",
       "      <td>16</td>\n",
       "    </tr>\n",
       "    <tr>\n",
       "      <th>20</th>\n",
       "      <td>finishedsquarefeet15</td>\n",
       "      <td>15</td>\n",
       "    </tr>\n",
       "    <tr>\n",
       "      <th>8</th>\n",
       "      <td>censustractandblock</td>\n",
       "      <td>15</td>\n",
       "    </tr>\n",
       "    <tr>\n",
       "      <th>25</th>\n",
       "      <td>lotsizesquarefeet</td>\n",
       "      <td>14</td>\n",
       "    </tr>\n",
       "    <tr>\n",
       "      <th>13</th>\n",
       "      <td>finishedsquarefeet6</td>\n",
       "      <td>14</td>\n",
       "    </tr>\n",
       "    <tr>\n",
       "      <th>15</th>\n",
       "      <td>latitude</td>\n",
       "      <td>12</td>\n",
       "    </tr>\n",
       "    <tr>\n",
       "      <th>2</th>\n",
       "      <td>poolcnt</td>\n",
       "      <td>12</td>\n",
       "    </tr>\n",
       "    <tr>\n",
       "      <th>7</th>\n",
       "      <td>regionidzip</td>\n",
       "      <td>12</td>\n",
       "    </tr>\n",
       "    <tr>\n",
       "      <th>10</th>\n",
       "      <td>taxdelinquencyyear</td>\n",
       "      <td>11</td>\n",
       "    </tr>\n",
       "    <tr>\n",
       "      <th>18</th>\n",
       "      <td>rawcensustractandblock</td>\n",
       "      <td>11</td>\n",
       "    </tr>\n",
       "    <tr>\n",
       "      <th>9</th>\n",
       "      <td>parcelid</td>\n",
       "      <td>11</td>\n",
       "    </tr>\n",
       "    <tr>\n",
       "      <th>30</th>\n",
       "      <td>regionidcity</td>\n",
       "      <td>6</td>\n",
       "    </tr>\n",
       "    <tr>\n",
       "      <th>17</th>\n",
       "      <td>propertycountylandusecode_0101</td>\n",
       "      <td>6</td>\n",
       "    </tr>\n",
       "  </tbody>\n",
       "</table>\n",
       "</div>"
      ],
      "text/plain": [
       "                         Predictor  Importance\n",
       "1                        taxamount          39\n",
       "0             finishedsquarefeet12          32\n",
       "4       structuretaxvaluedollarcnt          29\n",
       "3     calculatedfinishedsquarefeet          25\n",
       "11           landtaxvaluedollarcnt          22\n",
       "12                       yearbuilt          21\n",
       "5                taxvaluedollarcnt          20\n",
       "19                       longitude          16\n",
       "20            finishedsquarefeet15          15\n",
       "8              censustractandblock          15\n",
       "25               lotsizesquarefeet          14\n",
       "13             finishedsquarefeet6          14\n",
       "15                        latitude          12\n",
       "2                          poolcnt          12\n",
       "7                      regionidzip          12\n",
       "10              taxdelinquencyyear          11\n",
       "18          rawcensustractandblock          11\n",
       "9                         parcelid          11\n",
       "30                    regionidcity           6\n",
       "17  propertycountylandusecode_0101           6"
      ]
     },
     "execution_count": 48,
     "metadata": {},
     "output_type": "execute_result"
    }
   ],
   "source": [
    "imp_df_xgb = pd.DataFrame()\n",
    "imp_df_xgb['Predictor'] = model.get_fscore().keys()\n",
    "imp_df_xgb['Importance'] = model.get_fscore().values()\n",
    "\n",
    "imp_df_xgb = imp_df_xgb.sort_values(['Importance'], ascending=False)\n",
    "\n",
    "imp_df_xgb[:20]"
   ]
  },
  {
   "cell_type": "code",
   "execution_count": 49,
   "metadata": {
    "collapsed": true
   },
   "outputs": [],
   "source": [
    "\n",
    "#pred = model.predict(test)\n",
    "y_pred=[]\n",
    "\n",
    "for i,predict in enumerate(preds):\n",
    "    y_pred.append(str(round(predict,4)))\n",
    "y_pred=np.array(y_pred)\n",
    "\n",
    "output = pd.DataFrame({'ParcelId': test['parcelid'].astype(np.int32),\n",
    "        '201610': y_pred, '201611': y_pred, '201612': y_pred,\n",
    "        '201710': y_pred, '201711': y_pred, '201712': y_pred})\n",
    "# set col 'ParceID' to first col\n",
    "cols = output.columns.tolist()\n",
    "cols = cols[-1:] + cols[:-1]\n",
    "output = output[cols]\n",
    "from datetime import datetime\n",
    "output.to_csv('sub{}.csv'.format(datetime.now().strftime('%Y%m%d_%H%M%S')), index=False)"
   ]
  },
  {
   "cell_type": "code",
   "execution_count": null,
   "metadata": {
    "collapsed": true
   },
   "outputs": [],
   "source": []
  }
 ],
 "metadata": {
  "kernelspec": {
   "display_name": "Python 3",
   "language": "python",
   "name": "python3"
  },
  "language_info": {
   "codemirror_mode": {
    "name": "ipython",
    "version": 3
   },
   "file_extension": ".py",
   "mimetype": "text/x-python",
   "name": "python",
   "nbconvert_exporter": "python",
   "pygments_lexer": "ipython3",
   "version": "3.6.2"
  }
 },
 "nbformat": 4,
 "nbformat_minor": 2
}
